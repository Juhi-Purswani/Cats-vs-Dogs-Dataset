{
  "nbformat": 4,
  "nbformat_minor": 0,
  "metadata": {
    "colab": {
      "name": "Cats_and_dogs_9319.ipynb",
      "version": "0.3.2",
      "provenance": [],
      "collapsed_sections": []
    },
    "kernelspec": {
      "name": "python3",
      "display_name": "Python 3"
    },
    "accelerator": "GPU"
  },
  "cells": [
    {
      "metadata": {
        "id": "L0bO6i_n1TxP",
        "colab_type": "text"
      },
      "cell_type": "markdown",
      "source": [
        "# Cats vs Dogs (Keras VGG16 model ) (Feature extraction with Data Augmentation and Fine Tuning) \n"
      ]
    },
    {
      "metadata": {
        "id": "_wyEqb4j1Q-M",
        "colab_type": "code",
        "colab": {}
      },
      "cell_type": "code",
      "source": [
        "import numpy as np\n",
        "import matplotlib.pyplot as plt"
      ],
      "execution_count": 0,
      "outputs": []
    },
    {
      "metadata": {
        "id": "RoEpkxxc1bnC",
        "colab_type": "code",
        "colab": {
          "base_uri": "https://localhost:8080/",
          "height": 122
        },
        "outputId": "cc9c94af-bec8-42ad-fa38-8e660a308eaf"
      },
      "cell_type": "code",
      "source": [
        "from google.colab import drive\n",
        "drive.mount('/content/drive')"
      ],
      "execution_count": 2,
      "outputs": [
        {
          "output_type": "stream",
          "text": [
            "Go to this URL in a browser: https://accounts.google.com/o/oauth2/auth?client_id=947318989803-6bn6qk8qdgf4n4g3pfee6491hc0brc4i.apps.googleusercontent.com&redirect_uri=urn%3Aietf%3Awg%3Aoauth%3A2.0%3Aoob&scope=email%20https%3A%2F%2Fwww.googleapis.com%2Fauth%2Fdocs.test%20https%3A%2F%2Fwww.googleapis.com%2Fauth%2Fdrive%20https%3A%2F%2Fwww.googleapis.com%2Fauth%2Fdrive.photos.readonly%20https%3A%2F%2Fwww.googleapis.com%2Fauth%2Fpeopleapi.readonly&response_type=code\n",
            "\n",
            "Enter your authorization code:\n",
            "··········\n",
            "Mounted at /content/drive\n"
          ],
          "name": "stdout"
        }
      ]
    },
    {
      "metadata": {
        "id": "xjkTejYj1fA6",
        "colab_type": "code",
        "colab": {}
      },
      "cell_type": "code",
      "source": [
        "import os\n",
        "os.chdir(\"./drive/My Drive\")"
      ],
      "execution_count": 0,
      "outputs": []
    },
    {
      "metadata": {
        "id": "lXAzI8Ma2_qY",
        "colab_type": "code",
        "colab": {}
      },
      "cell_type": "code",
      "source": [
        "base_dir = os.path.join('/content/drive/My Drive', 'cats_and_dogs_small')\n",
        "train_dir = os.path.join(base_dir, 'train')\n",
        "val_dir = os.path.join(base_dir, 'validation')\n",
        "test_dir = os.path.join(base_dir, 'test')"
      ],
      "execution_count": 0,
      "outputs": []
    },
    {
      "metadata": {
        "id": "vQ19qSFS3HfT",
        "colab_type": "code",
        "colab": {
          "base_uri": "https://localhost:8080/",
          "height": 34
        },
        "outputId": "fc41eb03-b0bc-45b8-c0bb-b7aadcb35098"
      },
      "cell_type": "code",
      "source": [
        "import keras\n",
        "from keras.applications import VGG16"
      ],
      "execution_count": 5,
      "outputs": [
        {
          "output_type": "stream",
          "text": [
            "Using TensorFlow backend.\n"
          ],
          "name": "stderr"
        }
      ]
    },
    {
      "metadata": {
        "id": "fqYEgMwf5v33",
        "colab_type": "code",
        "colab": {
          "base_uri": "https://localhost:8080/",
          "height": 71
        },
        "outputId": "4750a349-7ad0-40d4-c0ba-fc2b768879cb"
      },
      "cell_type": "code",
      "source": [
        "conv_base = VGG16(weights='imagenet',\n",
        "include_top=False,\n",
        "input_shape=(150, 150, 3))"
      ],
      "execution_count": 6,
      "outputs": [
        {
          "output_type": "stream",
          "text": [
            "Downloading data from https://github.com/fchollet/deep-learning-models/releases/download/v0.1/vgg16_weights_tf_dim_ordering_tf_kernels_notop.h5\n",
            "58892288/58889256 [==============================] - 1s 0us/step\n"
          ],
          "name": "stdout"
        }
      ]
    },
    {
      "metadata": {
        "id": "x_biKEO453k4",
        "colab_type": "code",
        "colab": {
          "base_uri": "https://localhost:8080/",
          "height": 782
        },
        "outputId": "60758a8d-f291-41cd-a9e6-0d7a656fd96c"
      },
      "cell_type": "code",
      "source": [
        "conv_base.summary()"
      ],
      "execution_count": 7,
      "outputs": [
        {
          "output_type": "stream",
          "text": [
            "_________________________________________________________________\n",
            "Layer (type)                 Output Shape              Param #   \n",
            "=================================================================\n",
            "input_1 (InputLayer)         (None, 150, 150, 3)       0         \n",
            "_________________________________________________________________\n",
            "block1_conv1 (Conv2D)        (None, 150, 150, 64)      1792      \n",
            "_________________________________________________________________\n",
            "block1_conv2 (Conv2D)        (None, 150, 150, 64)      36928     \n",
            "_________________________________________________________________\n",
            "block1_pool (MaxPooling2D)   (None, 75, 75, 64)        0         \n",
            "_________________________________________________________________\n",
            "block2_conv1 (Conv2D)        (None, 75, 75, 128)       73856     \n",
            "_________________________________________________________________\n",
            "block2_conv2 (Conv2D)        (None, 75, 75, 128)       147584    \n",
            "_________________________________________________________________\n",
            "block2_pool (MaxPooling2D)   (None, 37, 37, 128)       0         \n",
            "_________________________________________________________________\n",
            "block3_conv1 (Conv2D)        (None, 37, 37, 256)       295168    \n",
            "_________________________________________________________________\n",
            "block3_conv2 (Conv2D)        (None, 37, 37, 256)       590080    \n",
            "_________________________________________________________________\n",
            "block3_conv3 (Conv2D)        (None, 37, 37, 256)       590080    \n",
            "_________________________________________________________________\n",
            "block3_pool (MaxPooling2D)   (None, 18, 18, 256)       0         \n",
            "_________________________________________________________________\n",
            "block4_conv1 (Conv2D)        (None, 18, 18, 512)       1180160   \n",
            "_________________________________________________________________\n",
            "block4_conv2 (Conv2D)        (None, 18, 18, 512)       2359808   \n",
            "_________________________________________________________________\n",
            "block4_conv3 (Conv2D)        (None, 18, 18, 512)       2359808   \n",
            "_________________________________________________________________\n",
            "block4_pool (MaxPooling2D)   (None, 9, 9, 512)         0         \n",
            "_________________________________________________________________\n",
            "block5_conv1 (Conv2D)        (None, 9, 9, 512)         2359808   \n",
            "_________________________________________________________________\n",
            "block5_conv2 (Conv2D)        (None, 9, 9, 512)         2359808   \n",
            "_________________________________________________________________\n",
            "block5_conv3 (Conv2D)        (None, 9, 9, 512)         2359808   \n",
            "_________________________________________________________________\n",
            "block5_pool (MaxPooling2D)   (None, 4, 4, 512)         0         \n",
            "=================================================================\n",
            "Total params: 14,714,688\n",
            "Trainable params: 14,714,688\n",
            "Non-trainable params: 0\n",
            "_________________________________________________________________\n"
          ],
          "name": "stdout"
        }
      ]
    },
    {
      "metadata": {
        "id": "qg0s4fxQJjTg",
        "colab_type": "code",
        "colab": {}
      },
      "cell_type": "code",
      "source": [
        "#dense layers\n",
        "from keras import models\n",
        "from keras import layers\n",
        "from keras import optimizers\n",
        "\n",
        "model = models.Sequential()\n",
        "model.add(conv_base)\n",
        "model.add(layers.Flatten())\n",
        "model.add(layers.Dense(256, activation='relu'))\n",
        "#model.add(layers.Dropout(0.5))\n",
        "model.add(layers.Dense(1, activation='sigmoid'))"
      ],
      "execution_count": 0,
      "outputs": []
    },
    {
      "metadata": {
        "id": "9qnPPwAWTqOm",
        "colab_type": "code",
        "colab": {
          "base_uri": "https://localhost:8080/",
          "height": 272
        },
        "outputId": "39b61112-78f9-4ae7-e212-a63ecd3bcba5"
      },
      "cell_type": "code",
      "source": [
        "model.summary()"
      ],
      "execution_count": 9,
      "outputs": [
        {
          "output_type": "stream",
          "text": [
            "_________________________________________________________________\n",
            "Layer (type)                 Output Shape              Param #   \n",
            "=================================================================\n",
            "vgg16 (Model)                (None, 4, 4, 512)         14714688  \n",
            "_________________________________________________________________\n",
            "flatten_1 (Flatten)          (None, 8192)              0         \n",
            "_________________________________________________________________\n",
            "dense_1 (Dense)              (None, 256)               2097408   \n",
            "_________________________________________________________________\n",
            "dense_2 (Dense)              (None, 1)                 257       \n",
            "=================================================================\n",
            "Total params: 16,812,353\n",
            "Trainable params: 16,812,353\n",
            "Non-trainable params: 0\n",
            "_________________________________________________________________\n"
          ],
          "name": "stdout"
        }
      ]
    },
    {
      "metadata": {
        "id": "naP-4RUcHKsv",
        "colab_type": "code",
        "colab": {}
      },
      "cell_type": "code",
      "source": [
        "conv_base.trainable = False  #freezing all layers of the vgg16 model"
      ],
      "execution_count": 0,
      "outputs": []
    },
    {
      "metadata": {
        "id": "lqh5o4SIHe9e",
        "colab_type": "code",
        "colab": {
          "base_uri": "https://localhost:8080/",
          "height": 51
        },
        "outputId": "2dfbe994-d39d-4775-962f-81aba6bcad61"
      },
      "cell_type": "code",
      "source": [
        "from keras.preprocessing.image import ImageDataGenerator\n",
        "\n",
        "train_datagen = ImageDataGenerator(rotation_range=40, width_shift_range=0.2, height_shift_range=0.2,\n",
        "shear_range=0.2, zoom_range=0.2, horizontal_flip=True, fill_mode='nearest', rescale=1./255)\n",
        "test_datagen = ImageDataGenerator(rescale=1./255)\n",
        "train_generator = train_datagen.flow_from_directory(train_dir,target_size=(150,150)\n",
        "                                                    ,batch_size=20,class_mode='binary')\n",
        "validation_generator = test_datagen.flow_from_directory(val_dir,target_size=(150,150)\n",
        "                                                    ,batch_size=20,class_mode='binary')"
      ],
      "execution_count": 11,
      "outputs": [
        {
          "output_type": "stream",
          "text": [
            "Found 2000 images belonging to 2 classes.\n",
            "Found 1000 images belonging to 2 classes.\n"
          ],
          "name": "stdout"
        }
      ]
    },
    {
      "metadata": {
        "id": "hubJuH15JoVL",
        "colab_type": "code",
        "colab": {
          "base_uri": "https://localhost:8080/",
          "height": 1037
        },
        "outputId": "0fcfbc97-eab8-4e12-ea9d-dbd6df0372ca"
      },
      "cell_type": "code",
      "source": [
        "model.compile(optimizer=optimizers.RMSprop(lr=2e-5),\n",
        "loss='binary_crossentropy',\n",
        "metrics=['acc'])\n",
        "history = model.fit_generator(\n",
        "train_generator,\n",
        "steps_per_epoch=100,\n",
        "epochs=30,\n",
        "validation_data=validation_generator,\n",
        "validation_steps=50)"
      ],
      "execution_count": 12,
      "outputs": [
        {
          "output_type": "stream",
          "text": [
            "Epoch 1/30\n",
            "100/100 [==============================] - 854s 9s/step - loss: 0.5971 - acc: 0.6840 - val_loss: 0.4600 - val_acc: 0.8070\n",
            "Epoch 2/30\n",
            "100/100 [==============================] - 36s 357ms/step - loss: 0.4805 - acc: 0.7935 - val_loss: 0.3767 - val_acc: 0.8320\n",
            "Epoch 3/30\n",
            "100/100 [==============================] - 37s 368ms/step - loss: 0.4225 - acc: 0.8160 - val_loss: 0.3451 - val_acc: 0.8440\n",
            "Epoch 4/30\n",
            "100/100 [==============================] - 36s 365ms/step - loss: 0.4006 - acc: 0.8240 - val_loss: 0.3160 - val_acc: 0.8610\n",
            "Epoch 5/30\n",
            "100/100 [==============================] - 32s 324ms/step - loss: 0.3863 - acc: 0.8250 - val_loss: 0.2971 - val_acc: 0.8840\n",
            "Epoch 6/30\n",
            "100/100 [==============================] - 36s 358ms/step - loss: 0.3780 - acc: 0.8295 - val_loss: 0.2874 - val_acc: 0.8750\n",
            "Epoch 7/30\n",
            "100/100 [==============================] - 36s 362ms/step - loss: 0.3648 - acc: 0.8400 - val_loss: 0.2767 - val_acc: 0.8850\n",
            "Epoch 8/30\n",
            "100/100 [==============================] - 36s 361ms/step - loss: 0.3436 - acc: 0.8535 - val_loss: 0.2755 - val_acc: 0.8910\n",
            "Epoch 9/30\n",
            "100/100 [==============================] - 32s 324ms/step - loss: 0.3475 - acc: 0.8495 - val_loss: 0.2768 - val_acc: 0.8780\n",
            "Epoch 10/30\n",
            "100/100 [==============================] - 36s 361ms/step - loss: 0.3287 - acc: 0.8605 - val_loss: 0.2598 - val_acc: 0.8950\n",
            "Epoch 11/30\n",
            "100/100 [==============================] - 36s 360ms/step - loss: 0.3283 - acc: 0.8610 - val_loss: 0.2589 - val_acc: 0.8970\n",
            "Epoch 12/30\n",
            "100/100 [==============================] - 36s 359ms/step - loss: 0.3327 - acc: 0.8570 - val_loss: 0.2577 - val_acc: 0.8950\n",
            "Epoch 13/30\n",
            "100/100 [==============================] - 33s 327ms/step - loss: 0.3312 - acc: 0.8595 - val_loss: 0.2541 - val_acc: 0.8970\n",
            "Epoch 14/30\n",
            "100/100 [==============================] - 36s 359ms/step - loss: 0.3257 - acc: 0.8625 - val_loss: 0.2510 - val_acc: 0.9010\n",
            "Epoch 15/30\n",
            "100/100 [==============================] - 36s 359ms/step - loss: 0.3186 - acc: 0.8550 - val_loss: 0.2503 - val_acc: 0.8960\n",
            "Epoch 16/30\n",
            "100/100 [==============================] - 35s 353ms/step - loss: 0.3092 - acc: 0.8690 - val_loss: 0.2527 - val_acc: 0.8970\n",
            "Epoch 17/30\n",
            "100/100 [==============================] - 33s 331ms/step - loss: 0.3079 - acc: 0.8720 - val_loss: 0.2479 - val_acc: 0.9030\n",
            "Epoch 18/30\n",
            "100/100 [==============================] - 37s 368ms/step - loss: 0.3184 - acc: 0.8630 - val_loss: 0.2464 - val_acc: 0.9060\n",
            "Epoch 19/30\n",
            "100/100 [==============================] - 36s 364ms/step - loss: 0.2948 - acc: 0.8685 - val_loss: 0.2541 - val_acc: 0.8960\n",
            "Epoch 20/30\n",
            "100/100 [==============================] - 35s 348ms/step - loss: 0.3023 - acc: 0.8690 - val_loss: 0.2507 - val_acc: 0.8990\n",
            "Epoch 21/30\n",
            "100/100 [==============================] - 34s 344ms/step - loss: 0.2904 - acc: 0.8750 - val_loss: 0.2583 - val_acc: 0.8900\n",
            "Epoch 22/30\n",
            "100/100 [==============================] - 37s 368ms/step - loss: 0.2968 - acc: 0.8750 - val_loss: 0.2521 - val_acc: 0.8930\n",
            "Epoch 23/30\n",
            "100/100 [==============================] - 36s 364ms/step - loss: 0.3029 - acc: 0.8650 - val_loss: 0.2443 - val_acc: 0.8990\n",
            "Epoch 24/30\n",
            "100/100 [==============================] - 34s 339ms/step - loss: 0.3009 - acc: 0.8685 - val_loss: 0.2421 - val_acc: 0.9020\n",
            "Epoch 25/30\n",
            "100/100 [==============================] - 36s 357ms/step - loss: 0.2881 - acc: 0.8775 - val_loss: 0.2452 - val_acc: 0.8950\n",
            "Epoch 26/30\n",
            "100/100 [==============================] - 38s 377ms/step - loss: 0.2910 - acc: 0.8775 - val_loss: 0.2417 - val_acc: 0.8990\n",
            "Epoch 27/30\n",
            "100/100 [==============================] - 36s 362ms/step - loss: 0.2853 - acc: 0.8680 - val_loss: 0.2432 - val_acc: 0.9040\n",
            "Epoch 28/30\n",
            "100/100 [==============================] - 33s 330ms/step - loss: 0.2825 - acc: 0.8750 - val_loss: 0.2424 - val_acc: 0.8950\n",
            "Epoch 29/30\n",
            "100/100 [==============================] - 34s 336ms/step - loss: 0.2850 - acc: 0.8790 - val_loss: 0.2387 - val_acc: 0.9010\n",
            "Epoch 30/30\n",
            "100/100 [==============================] - 34s 337ms/step - loss: 0.2831 - acc: 0.8760 - val_loss: 0.2470 - val_acc: 0.9020\n"
          ],
          "name": "stdout"
        }
      ]
    },
    {
      "metadata": {
        "id": "fJlVX2MCYN4g",
        "colab_type": "code",
        "colab": {}
      },
      "cell_type": "code",
      "source": [
        "#freezing all layers except one top \n",
        "conv_base.trainable = True\n",
        "set_trainable = False\n",
        "for layer in conv_base.layers:\n",
        "  if layer.name == 'block5_conv1':\n",
        "    set_trainable = True\n",
        "  if set_trainable:\n",
        "    layer.trainable = True\n",
        "  else:\n",
        "    layer.trainable = False"
      ],
      "execution_count": 0,
      "outputs": []
    },
    {
      "metadata": {
        "id": "sRLXmuPNYS5O",
        "colab_type": "code",
        "colab": {
          "base_uri": "https://localhost:8080/",
          "height": 3417
        },
        "outputId": "511d3b7d-dd02-4057-ce45-839b383dfcc8"
      },
      "cell_type": "code",
      "source": [
        "model.compile(loss='binary_crossentropy',\n",
        "optimizer=optimizers.RMSprop(lr=1e-5),\n",
        "metrics=['acc'])\n",
        "history = model.fit_generator(\n",
        "train_generator,\n",
        "steps_per_epoch=100,\n",
        "epochs=100,\n",
        "validation_data=validation_generator,\n",
        "validation_steps=50)"
      ],
      "execution_count": 15,
      "outputs": [
        {
          "output_type": "stream",
          "text": [
            "Epoch 1/100\n",
            "100/100 [==============================] - 37s 374ms/step - loss: 0.3022 - acc: 0.8620 - val_loss: 0.2254 - val_acc: 0.9040\n",
            "Epoch 2/100\n",
            "100/100 [==============================] - 34s 337ms/step - loss: 0.2523 - acc: 0.8945 - val_loss: 0.2326 - val_acc: 0.8980\n",
            "Epoch 3/100\n",
            "100/100 [==============================] - 34s 345ms/step - loss: 0.2285 - acc: 0.9070 - val_loss: 0.2049 - val_acc: 0.9230\n",
            "Epoch 4/100\n",
            "100/100 [==============================] - 35s 346ms/step - loss: 0.2112 - acc: 0.9175 - val_loss: 0.2073 - val_acc: 0.9210\n",
            "Epoch 5/100\n",
            "100/100 [==============================] - 33s 334ms/step - loss: 0.2102 - acc: 0.9100 - val_loss: 0.2149 - val_acc: 0.9130\n",
            "Epoch 6/100\n",
            "100/100 [==============================] - 37s 370ms/step - loss: 0.2070 - acc: 0.9180 - val_loss: 0.3032 - val_acc: 0.8840\n",
            "Epoch 7/100\n",
            "100/100 [==============================] - 37s 368ms/step - loss: 0.1738 - acc: 0.9340 - val_loss: 0.2085 - val_acc: 0.9210\n",
            "Epoch 8/100\n",
            "100/100 [==============================] - 37s 373ms/step - loss: 0.1693 - acc: 0.9310 - val_loss: 0.2476 - val_acc: 0.9030\n",
            "Epoch 9/100\n",
            "100/100 [==============================] - 34s 339ms/step - loss: 0.1616 - acc: 0.9345 - val_loss: 0.2071 - val_acc: 0.9230\n",
            "Epoch 10/100\n",
            "100/100 [==============================] - 36s 362ms/step - loss: 0.1526 - acc: 0.9345 - val_loss: 0.1753 - val_acc: 0.9340\n",
            "Epoch 11/100\n",
            "100/100 [==============================] - 37s 367ms/step - loss: 0.1423 - acc: 0.9445 - val_loss: 0.2292 - val_acc: 0.9180\n",
            "Epoch 12/100\n",
            "100/100 [==============================] - 37s 370ms/step - loss: 0.1348 - acc: 0.9485 - val_loss: 0.2472 - val_acc: 0.9150\n",
            "Epoch 13/100\n",
            "100/100 [==============================] - 35s 349ms/step - loss: 0.1414 - acc: 0.9385 - val_loss: 0.1832 - val_acc: 0.9360\n",
            "Epoch 14/100\n",
            "100/100 [==============================] - 34s 341ms/step - loss: 0.1374 - acc: 0.9485 - val_loss: 0.2022 - val_acc: 0.9190\n",
            "Epoch 15/100\n",
            "100/100 [==============================] - 37s 369ms/step - loss: 0.1314 - acc: 0.9485 - val_loss: 0.1814 - val_acc: 0.9290\n",
            "Epoch 16/100\n",
            "100/100 [==============================] - 37s 371ms/step - loss: 0.1102 - acc: 0.9545 - val_loss: 0.1926 - val_acc: 0.9320\n",
            "Epoch 17/100\n",
            "100/100 [==============================] - 36s 362ms/step - loss: 0.1161 - acc: 0.9570 - val_loss: 0.1879 - val_acc: 0.9290\n",
            "Epoch 18/100\n",
            "100/100 [==============================] - 33s 332ms/step - loss: 0.1173 - acc: 0.9570 - val_loss: 0.1852 - val_acc: 0.9330\n",
            "Epoch 19/100\n",
            "100/100 [==============================] - 37s 365ms/step - loss: 0.1118 - acc: 0.9580 - val_loss: 0.1848 - val_acc: 0.9370\n",
            "Epoch 20/100\n",
            "100/100 [==============================] - 37s 371ms/step - loss: 0.0969 - acc: 0.9625 - val_loss: 0.1868 - val_acc: 0.9380\n",
            "Epoch 21/100\n",
            "100/100 [==============================] - 37s 367ms/step - loss: 0.0896 - acc: 0.9615 - val_loss: 0.1797 - val_acc: 0.9380\n",
            "Epoch 22/100\n",
            "100/100 [==============================] - 33s 333ms/step - loss: 0.0866 - acc: 0.9680 - val_loss: 0.2874 - val_acc: 0.9100\n",
            "Epoch 23/100\n",
            "100/100 [==============================] - 35s 354ms/step - loss: 0.0923 - acc: 0.9660 - val_loss: 0.1860 - val_acc: 0.9320\n",
            "Epoch 24/100\n",
            "100/100 [==============================] - 37s 373ms/step - loss: 0.0757 - acc: 0.9750 - val_loss: 0.1982 - val_acc: 0.9250\n",
            "Epoch 25/100\n",
            "100/100 [==============================] - 37s 371ms/step - loss: 0.0900 - acc: 0.9670 - val_loss: 0.2313 - val_acc: 0.9230\n",
            "Epoch 26/100\n",
            "100/100 [==============================] - 35s 346ms/step - loss: 0.0866 - acc: 0.9675 - val_loss: 0.2510 - val_acc: 0.9230\n",
            "Epoch 27/100\n",
            "100/100 [==============================] - 35s 352ms/step - loss: 0.0732 - acc: 0.9755 - val_loss: 0.2199 - val_acc: 0.9290\n",
            "Epoch 28/100\n",
            "100/100 [==============================] - 37s 373ms/step - loss: 0.0726 - acc: 0.9755 - val_loss: 0.1895 - val_acc: 0.9340\n",
            "Epoch 29/100\n",
            "100/100 [==============================] - 37s 367ms/step - loss: 0.0734 - acc: 0.9685 - val_loss: 0.2066 - val_acc: 0.9280\n",
            "Epoch 30/100\n",
            "100/100 [==============================] - 36s 355ms/step - loss: 0.0699 - acc: 0.9730 - val_loss: 0.2473 - val_acc: 0.9270\n",
            "Epoch 31/100\n",
            "100/100 [==============================] - 34s 345ms/step - loss: 0.0581 - acc: 0.9785 - val_loss: 0.2034 - val_acc: 0.9360\n",
            "Epoch 32/100\n",
            "100/100 [==============================] - 37s 372ms/step - loss: 0.0612 - acc: 0.9745 - val_loss: 0.2407 - val_acc: 0.9290\n",
            "Epoch 33/100\n",
            "100/100 [==============================] - 37s 373ms/step - loss: 0.0499 - acc: 0.9820 - val_loss: 0.1884 - val_acc: 0.9360\n",
            "Epoch 34/100\n",
            "100/100 [==============================] - 37s 366ms/step - loss: 0.0635 - acc: 0.9755 - val_loss: 0.2616 - val_acc: 0.9240\n",
            "Epoch 35/100\n",
            "100/100 [==============================] - 34s 338ms/step - loss: 0.0496 - acc: 0.9835 - val_loss: 0.2255 - val_acc: 0.9340\n",
            "Epoch 36/100\n",
            "100/100 [==============================] - 38s 377ms/step - loss: 0.0613 - acc: 0.9755 - val_loss: 0.1838 - val_acc: 0.9420\n",
            "Epoch 37/100\n",
            "100/100 [==============================] - 37s 367ms/step - loss: 0.0533 - acc: 0.9790 - val_loss: 0.3098 - val_acc: 0.9180\n",
            "Epoch 38/100\n",
            "100/100 [==============================] - 38s 382ms/step - loss: 0.0528 - acc: 0.9815 - val_loss: 0.2096 - val_acc: 0.9320\n",
            "Epoch 39/100\n",
            "100/100 [==============================] - 34s 340ms/step - loss: 0.0563 - acc: 0.9815 - val_loss: 0.2457 - val_acc: 0.9280\n",
            "Epoch 40/100\n",
            "100/100 [==============================] - 36s 362ms/step - loss: 0.0556 - acc: 0.9755 - val_loss: 0.3623 - val_acc: 0.9100\n",
            "Epoch 41/100\n",
            "100/100 [==============================] - 37s 368ms/step - loss: 0.0537 - acc: 0.9815 - val_loss: 0.1862 - val_acc: 0.9400\n",
            "Epoch 42/100\n",
            "100/100 [==============================] - 38s 377ms/step - loss: 0.0524 - acc: 0.9815 - val_loss: 0.1836 - val_acc: 0.9410\n",
            "Epoch 43/100\n",
            "100/100 [==============================] - 33s 334ms/step - loss: 0.0488 - acc: 0.9840 - val_loss: 0.1882 - val_acc: 0.9430\n",
            "Epoch 44/100\n",
            "100/100 [==============================] - 36s 361ms/step - loss: 0.0439 - acc: 0.9830 - val_loss: 0.2057 - val_acc: 0.9410\n",
            "Epoch 45/100\n",
            "100/100 [==============================] - 37s 369ms/step - loss: 0.0565 - acc: 0.9785 - val_loss: 0.2223 - val_acc: 0.9350\n",
            "Epoch 46/100\n",
            "100/100 [==============================] - 37s 371ms/step - loss: 0.0398 - acc: 0.9855 - val_loss: 0.2564 - val_acc: 0.9280\n",
            "Epoch 47/100\n",
            "100/100 [==============================] - 34s 342ms/step - loss: 0.0496 - acc: 0.9865 - val_loss: 0.2290 - val_acc: 0.9310\n",
            "Epoch 48/100\n",
            "100/100 [==============================] - 35s 346ms/step - loss: 0.0454 - acc: 0.9840 - val_loss: 0.1984 - val_acc: 0.9410\n",
            "Epoch 49/100\n",
            "100/100 [==============================] - 37s 366ms/step - loss: 0.0328 - acc: 0.9865 - val_loss: 0.2403 - val_acc: 0.9330\n",
            "Epoch 50/100\n",
            "100/100 [==============================] - 37s 373ms/step - loss: 0.0427 - acc: 0.9820 - val_loss: 0.2745 - val_acc: 0.9290\n",
            "Epoch 51/100\n",
            "100/100 [==============================] - 35s 353ms/step - loss: 0.0441 - acc: 0.9830 - val_loss: 0.2419 - val_acc: 0.9260\n",
            "Epoch 52/100\n",
            "100/100 [==============================] - 34s 335ms/step - loss: 0.0472 - acc: 0.9855 - val_loss: 0.2133 - val_acc: 0.9350\n",
            "Epoch 53/100\n",
            "100/100 [==============================] - 37s 370ms/step - loss: 0.0353 - acc: 0.9870 - val_loss: 0.2504 - val_acc: 0.9340\n",
            "Epoch 54/100\n",
            "100/100 [==============================] - 37s 368ms/step - loss: 0.0359 - acc: 0.9855 - val_loss: 0.2153 - val_acc: 0.9360\n",
            "Epoch 55/100\n",
            "100/100 [==============================] - 37s 367ms/step - loss: 0.0381 - acc: 0.9855 - val_loss: 0.1924 - val_acc: 0.9430\n",
            "Epoch 56/100\n",
            "100/100 [==============================] - 33s 328ms/step - loss: 0.0338 - acc: 0.9900 - val_loss: 0.2583 - val_acc: 0.9330\n",
            "Epoch 57/100\n",
            "100/100 [==============================] - 37s 365ms/step - loss: 0.0378 - acc: 0.9855 - val_loss: 0.2003 - val_acc: 0.9400\n",
            "Epoch 58/100\n",
            "100/100 [==============================] - 38s 376ms/step - loss: 0.0360 - acc: 0.9870 - val_loss: 0.2076 - val_acc: 0.9400\n",
            "Epoch 59/100\n",
            "100/100 [==============================] - 37s 375ms/step - loss: 0.0302 - acc: 0.9875 - val_loss: 0.2227 - val_acc: 0.9330\n",
            "Epoch 60/100\n",
            "100/100 [==============================] - 34s 338ms/step - loss: 0.0332 - acc: 0.9870 - val_loss: 0.2039 - val_acc: 0.9380\n",
            "Epoch 61/100\n",
            "100/100 [==============================] - 36s 365ms/step - loss: 0.0293 - acc: 0.9910 - val_loss: 0.2448 - val_acc: 0.9360\n",
            "Epoch 62/100\n",
            "100/100 [==============================] - 38s 380ms/step - loss: 0.0344 - acc: 0.9870 - val_loss: 0.2256 - val_acc: 0.9380\n",
            "Epoch 63/100\n",
            "100/100 [==============================] - 37s 374ms/step - loss: 0.0301 - acc: 0.9900 - val_loss: 0.2531 - val_acc: 0.9360\n",
            "Epoch 64/100\n",
            "100/100 [==============================] - 34s 341ms/step - loss: 0.0308 - acc: 0.9895 - val_loss: 0.2320 - val_acc: 0.9380\n",
            "Epoch 65/100\n",
            "100/100 [==============================] - 36s 360ms/step - loss: 0.0329 - acc: 0.9900 - val_loss: 0.2501 - val_acc: 0.9410\n",
            "Epoch 66/100\n",
            "100/100 [==============================] - 37s 368ms/step - loss: 0.0291 - acc: 0.9915 - val_loss: 0.2129 - val_acc: 0.9450\n",
            "Epoch 67/100\n",
            "100/100 [==============================] - 37s 368ms/step - loss: 0.0357 - acc: 0.9885 - val_loss: 0.2194 - val_acc: 0.9380\n",
            "Epoch 68/100\n",
            "100/100 [==============================] - 35s 354ms/step - loss: 0.0218 - acc: 0.9920 - val_loss: 0.2860 - val_acc: 0.9290\n",
            "Epoch 69/100\n",
            "100/100 [==============================] - 35s 346ms/step - loss: 0.0325 - acc: 0.9880 - val_loss: 0.2465 - val_acc: 0.9330\n",
            "Epoch 70/100\n",
            "100/100 [==============================] - 35s 347ms/step - loss: 0.0247 - acc: 0.9920 - val_loss: 0.2495 - val_acc: 0.9340\n",
            "Epoch 71/100\n",
            "100/100 [==============================] - 33s 332ms/step - loss: 0.0271 - acc: 0.9915 - val_loss: 0.2877 - val_acc: 0.9380\n",
            "Epoch 72/100\n",
            "100/100 [==============================] - 33s 333ms/step - loss: 0.0168 - acc: 0.9925 - val_loss: 0.2332 - val_acc: 0.9380\n",
            "Epoch 73/100\n",
            "100/100 [==============================] - 33s 332ms/step - loss: 0.0213 - acc: 0.9940 - val_loss: 0.2362 - val_acc: 0.9480\n",
            "Epoch 74/100\n",
            "100/100 [==============================] - 33s 331ms/step - loss: 0.0234 - acc: 0.9920 - val_loss: 0.2833 - val_acc: 0.9310\n",
            "Epoch 75/100\n",
            "100/100 [==============================] - 33s 333ms/step - loss: 0.0246 - acc: 0.9890 - val_loss: 0.3149 - val_acc: 0.9330\n",
            "Epoch 76/100\n",
            "100/100 [==============================] - 33s 333ms/step - loss: 0.0295 - acc: 0.9905 - val_loss: 0.2717 - val_acc: 0.9360\n",
            "Epoch 77/100\n",
            "100/100 [==============================] - 33s 329ms/step - loss: 0.0284 - acc: 0.9870 - val_loss: 0.2341 - val_acc: 0.9360\n",
            "Epoch 78/100\n",
            "100/100 [==============================] - 33s 331ms/step - loss: 0.0186 - acc: 0.9930 - val_loss: 0.2169 - val_acc: 0.9390\n",
            "Epoch 79/100\n",
            "100/100 [==============================] - 34s 343ms/step - loss: 0.0180 - acc: 0.9915 - val_loss: 0.2828 - val_acc: 0.9370\n",
            "Epoch 80/100\n",
            "100/100 [==============================] - 34s 340ms/step - loss: 0.0208 - acc: 0.9935 - val_loss: 0.2578 - val_acc: 0.9390\n",
            "Epoch 81/100\n",
            "100/100 [==============================] - 35s 345ms/step - loss: 0.0339 - acc: 0.9915 - val_loss: 0.2682 - val_acc: 0.9410\n",
            "Epoch 82/100\n",
            "100/100 [==============================] - 34s 344ms/step - loss: 0.0200 - acc: 0.9930 - val_loss: 0.2377 - val_acc: 0.9340\n",
            "Epoch 83/100\n",
            "100/100 [==============================] - 33s 330ms/step - loss: 0.0224 - acc: 0.9915 - val_loss: 0.2457 - val_acc: 0.9420\n",
            "Epoch 84/100\n",
            "100/100 [==============================] - 36s 362ms/step - loss: 0.0236 - acc: 0.9920 - val_loss: 0.2402 - val_acc: 0.9420\n",
            "Epoch 85/100\n",
            "100/100 [==============================] - 37s 373ms/step - loss: 0.0132 - acc: 0.9950 - val_loss: 0.3537 - val_acc: 0.9340\n",
            "Epoch 86/100\n",
            "100/100 [==============================] - 37s 372ms/step - loss: 0.0238 - acc: 0.9915 - val_loss: 0.3088 - val_acc: 0.9360\n",
            "Epoch 87/100\n",
            "100/100 [==============================] - 33s 332ms/step - loss: 0.0245 - acc: 0.9930 - val_loss: 0.2562 - val_acc: 0.9400\n",
            "Epoch 88/100\n",
            "100/100 [==============================] - 37s 369ms/step - loss: 0.0184 - acc: 0.9945 - val_loss: 0.2358 - val_acc: 0.9370\n",
            "Epoch 89/100\n",
            "100/100 [==============================] - 37s 372ms/step - loss: 0.0213 - acc: 0.9930 - val_loss: 0.2843 - val_acc: 0.9380\n",
            "Epoch 90/100\n",
            "100/100 [==============================] - 37s 374ms/step - loss: 0.0166 - acc: 0.9950 - val_loss: 0.4259 - val_acc: 0.9180\n",
            "Epoch 91/100\n",
            "100/100 [==============================] - 34s 338ms/step - loss: 0.0193 - acc: 0.9910 - val_loss: 0.2463 - val_acc: 0.9470\n",
            "Epoch 92/100\n",
            "100/100 [==============================] - 36s 360ms/step - loss: 0.0230 - acc: 0.9910 - val_loss: 0.2443 - val_acc: 0.9460\n",
            "Epoch 93/100\n",
            "100/100 [==============================] - 38s 376ms/step - loss: 0.0125 - acc: 0.9955 - val_loss: 0.2579 - val_acc: 0.9410\n",
            "Epoch 94/100\n",
            "100/100 [==============================] - 37s 373ms/step - loss: 0.0201 - acc: 0.9935 - val_loss: 0.6308 - val_acc: 0.8950\n",
            "Epoch 95/100\n",
            "100/100 [==============================] - 34s 343ms/step - loss: 0.0257 - acc: 0.9925 - val_loss: 0.2239 - val_acc: 0.9440\n",
            "Epoch 96/100\n",
            "100/100 [==============================] - 35s 353ms/step - loss: 0.0214 - acc: 0.9940 - val_loss: 0.2710 - val_acc: 0.9390\n",
            "Epoch 97/100\n",
            "100/100 [==============================] - 38s 382ms/step - loss: 0.0127 - acc: 0.9965 - val_loss: 0.3124 - val_acc: 0.9330\n",
            "Epoch 98/100\n",
            "100/100 [==============================] - 37s 371ms/step - loss: 0.0146 - acc: 0.9935 - val_loss: 0.3964 - val_acc: 0.9290\n",
            "Epoch 99/100\n",
            "100/100 [==============================] - 33s 333ms/step - loss: 0.0285 - acc: 0.9890 - val_loss: 0.3706 - val_acc: 0.9250\n",
            "Epoch 100/100\n",
            "100/100 [==============================] - 35s 350ms/step - loss: 0.0157 - acc: 0.9935 - val_loss: 0.3092 - val_acc: 0.9370\n"
          ],
          "name": "stdout"
        }
      ]
    },
    {
      "metadata": {
        "id": "kYWQtrCOVOqY",
        "colab_type": "code",
        "colab": {
          "base_uri": "https://localhost:8080/",
          "height": 707
        },
        "outputId": "f93bfa06-9a96-463a-906a-c3a0c8ee1c85"
      },
      "cell_type": "code",
      "source": [
        "import matplotlib.pyplot as plt\n",
        "acc = history.history['acc']\n",
        "val_acc = history.history['val_acc']\n",
        "loss = history.history['loss']\n",
        "val_loss = history.history['val_loss']\n",
        "epochs = range(1, len(acc) + 1)\n",
        "plt.plot(epochs, acc, 'bo', label='Training acc')\n",
        "plt.plot(epochs, val_acc, 'b', label='Validation acc')\n",
        "plt.title('Training and validation accuracy')\n",
        "plt.legend()\n",
        "plt.figure()\n",
        "plt.plot(epochs, loss, 'bo', label='Training loss')\n",
        "plt.plot(epochs, val_loss, 'b', label='Validation loss')\n",
        "plt.title('Training and validation loss')\n",
        "plt.legend()\n",
        "plt.show()"
      ],
      "execution_count": 16,
      "outputs": [
        {
          "output_type": "display_data",
          "data": {
            "image/png": "[encoded data removed]",
            "text/plain": [
              "<matplotlib.figure.Figure at 0x7f2025d66860>"
            ]
          },
          "metadata": {
            "tags": []
          }
        },
        {
          "output_type": "display_data",
          "data": {
            "image/png": "[encoded data removed]",
            "text/plain": [
              "<matplotlib.figure.Figure at 0x7f202bb652b0>"
            ]
          },
          "metadata": {
            "tags": []
          }
        }
      ]
    },
    {
      "metadata": {
        "id": "JCitww7qYOVi",
        "colab_type": "code",
        "colab": {
          "base_uri": "https://localhost:8080/",
          "height": 51
        },
        "outputId": "1f519b86-bd27-4d2b-9663-7049749313a5"
      },
      "cell_type": "code",
      "source": [
        "test_generator = test_datagen.flow_from_directory(test_dir, target_size = (150, 150), batch_size = 20, class_mode = 'binary')\n",
        "test_loss, test_acc = model.evaluate_generator(test_generator)\n",
        "test_loss, test_acc"
      ],
      "execution_count": 17,
      "outputs": [
        {
          "output_type": "stream",
          "text": [
            "Found 1000 images belonging to 2 classes.\n"
          ],
          "name": "stdout"
        },
        {
          "output_type": "execute_result",
          "data": {
            "text/plain": [
              "(0.35757496369236835, 0.9319999933242797)"
            ]
          },
          "metadata": {
            "tags": []
          },
          "execution_count": 17
        }
      ]
    },
    {
      "metadata": {
        "id": "WaYgcGW6YTH_",
        "colab_type": "code",
        "colab": {}
      },
      "cell_type": "code",
      "source": [
        ""
      ],
      "execution_count": 0,
      "outputs": []
    }
  ]
}