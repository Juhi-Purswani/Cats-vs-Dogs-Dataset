{
  "nbformat": 4,
  "nbformat_minor": 0,
  "metadata": {
    "colab": {
      "name": "Cats_and_dogs_8890.ipynb",
      "version": "0.3.2",
      "provenance": [],
      "collapsed_sections": []
    },
    "kernelspec": {
      "name": "python3",
      "display_name": "Python 3"
    },
    "accelerator": "GPU"
  },
  "cells": [
    {
      "metadata": {
        "id": "L0bO6i_n1TxP",
        "colab_type": "text"
      },
      "cell_type": "markdown",
      "source": [
        "# Cats vs Dogs (Keras VGG16 model ) (Fast Feature extraction without Data Augmentation) \n"
      ]
    },
    {
      "metadata": {
        "id": "_wyEqb4j1Q-M",
        "colab_type": "code",
        "colab": {}
      },
      "cell_type": "code",
      "source": [
        "import numpy as np\n",
        "import matplotlib.pyplot as plt"
      ],
      "execution_count": 0,
      "outputs": []
    },
    {
      "metadata": {
        "id": "RoEpkxxc1bnC",
        "colab_type": "code",
        "colab": {
          "base_uri": "https://localhost:8080/",
          "height": 122
        },
        "outputId": "e304db4b-83a4-4ba9-e609-71058f4f5e41"
      },
      "cell_type": "code",
      "source": [
        "from google.colab import drive\n",
        "drive.mount('/content/drive')"
      ],
      "execution_count": 2,
      "outputs": [
        {
          "output_type": "stream",
          "text": [
            "Go to this URL in a browser: https://accounts.google.com/o/oauth2/auth?client_id=947318989803-6bn6qk8qdgf4n4g3pfee6491hc0brc4i.apps.googleusercontent.com&redirect_uri=urn%3Aietf%3Awg%3Aoauth%3A2.0%3Aoob&scope=email%20https%3A%2F%2Fwww.googleapis.com%2Fauth%2Fdocs.test%20https%3A%2F%2Fwww.googleapis.com%2Fauth%2Fdrive%20https%3A%2F%2Fwww.googleapis.com%2Fauth%2Fdrive.photos.readonly%20https%3A%2F%2Fwww.googleapis.com%2Fauth%2Fpeopleapi.readonly&response_type=code\n",
            "\n",
            "Enter your authorization code:\n",
            "··········\n",
            "Mounted at /content/drive\n"
          ],
          "name": "stdout"
        }
      ]
    },
    {
      "metadata": {
        "id": "xjkTejYj1fA6",
        "colab_type": "code",
        "colab": {}
      },
      "cell_type": "code",
      "source": [
        "import os\n",
        "os.chdir(\"./drive/My Drive\")"
      ],
      "execution_count": 0,
      "outputs": []
    },
    {
      "metadata": {
        "id": "lXAzI8Ma2_qY",
        "colab_type": "code",
        "colab": {}
      },
      "cell_type": "code",
      "source": [
        "base_dir = os.path.join('/content/drive/My Drive', 'cats_and_dogs_small')\n",
        "train_dir = os.path.join(base_dir, 'train')\n",
        "val_dir = os.path.join(base_dir, 'validation')\n",
        "test_dir = os.path.join(base_dir, 'test')"
      ],
      "execution_count": 0,
      "outputs": []
    },
    {
      "metadata": {
        "id": "vQ19qSFS3HfT",
        "colab_type": "code",
        "colab": {
          "base_uri": "https://localhost:8080/",
          "height": 34
        },
        "outputId": "52672d82-43bd-4946-fc43-3520f6dd1c1b"
      },
      "cell_type": "code",
      "source": [
        "import keras\n",
        "from keras.applications import VGG16"
      ],
      "execution_count": 5,
      "outputs": [
        {
          "output_type": "stream",
          "text": [
            "Using TensorFlow backend.\n"
          ],
          "name": "stderr"
        }
      ]
    },
    {
      "metadata": {
        "id": "fqYEgMwf5v33",
        "colab_type": "code",
        "colab": {
          "base_uri": "https://localhost:8080/",
          "height": 71
        },
        "outputId": "ba16ef6d-dcd1-470c-c24e-5da5cc052af7"
      },
      "cell_type": "code",
      "source": [
        "conv_base = VGG16(weights='imagenet',\n",
        "include_top=False,\n",
        "input_shape=(150, 150, 3))"
      ],
      "execution_count": 6,
      "outputs": [
        {
          "output_type": "stream",
          "text": [
            "Downloading data from https://github.com/fchollet/deep-learning-models/releases/download/v0.1/vgg16_weights_tf_dim_ordering_tf_kernels_notop.h5\n",
            "58892288/58889256 [==============================] - 5s 0us/step\n"
          ],
          "name": "stdout"
        }
      ]
    },
    {
      "metadata": {
        "id": "x_biKEO453k4",
        "colab_type": "code",
        "colab": {
          "base_uri": "https://localhost:8080/",
          "height": 782
        },
        "outputId": "b3b65fc9-9573-45fe-f59c-4423f7311752"
      },
      "cell_type": "code",
      "source": [
        "conv_base.summary()"
      ],
      "execution_count": 7,
      "outputs": [
        {
          "output_type": "stream",
          "text": [
            "_________________________________________________________________\n",
            "Layer (type)                 Output Shape              Param #   \n",
            "=================================================================\n",
            "input_1 (InputLayer)         (None, 150, 150, 3)       0         \n",
            "_________________________________________________________________\n",
            "block1_conv1 (Conv2D)        (None, 150, 150, 64)      1792      \n",
            "_________________________________________________________________\n",
            "block1_conv2 (Conv2D)        (None, 150, 150, 64)      36928     \n",
            "_________________________________________________________________\n",
            "block1_pool (MaxPooling2D)   (None, 75, 75, 64)        0         \n",
            "_________________________________________________________________\n",
            "block2_conv1 (Conv2D)        (None, 75, 75, 128)       73856     \n",
            "_________________________________________________________________\n",
            "block2_conv2 (Conv2D)        (None, 75, 75, 128)       147584    \n",
            "_________________________________________________________________\n",
            "block2_pool (MaxPooling2D)   (None, 37, 37, 128)       0         \n",
            "_________________________________________________________________\n",
            "block3_conv1 (Conv2D)        (None, 37, 37, 256)       295168    \n",
            "_________________________________________________________________\n",
            "block3_conv2 (Conv2D)        (None, 37, 37, 256)       590080    \n",
            "_________________________________________________________________\n",
            "block3_conv3 (Conv2D)        (None, 37, 37, 256)       590080    \n",
            "_________________________________________________________________\n",
            "block3_pool (MaxPooling2D)   (None, 18, 18, 256)       0         \n",
            "_________________________________________________________________\n",
            "block4_conv1 (Conv2D)        (None, 18, 18, 512)       1180160   \n",
            "_________________________________________________________________\n",
            "block4_conv2 (Conv2D)        (None, 18, 18, 512)       2359808   \n",
            "_________________________________________________________________\n",
            "block4_conv3 (Conv2D)        (None, 18, 18, 512)       2359808   \n",
            "_________________________________________________________________\n",
            "block4_pool (MaxPooling2D)   (None, 9, 9, 512)         0         \n",
            "_________________________________________________________________\n",
            "block5_conv1 (Conv2D)        (None, 9, 9, 512)         2359808   \n",
            "_________________________________________________________________\n",
            "block5_conv2 (Conv2D)        (None, 9, 9, 512)         2359808   \n",
            "_________________________________________________________________\n",
            "block5_conv3 (Conv2D)        (None, 9, 9, 512)         2359808   \n",
            "_________________________________________________________________\n",
            "block5_pool (MaxPooling2D)   (None, 4, 4, 512)         0         \n",
            "=================================================================\n",
            "Total params: 14,714,688\n",
            "Trainable params: 14,714,688\n",
            "Non-trainable params: 0\n",
            "_________________________________________________________________\n"
          ],
          "name": "stdout"
        }
      ]
    },
    {
      "metadata": {
        "id": "oOkYEVhB8KHT",
        "colab_type": "code",
        "colab": {}
      },
      "cell_type": "code",
      "source": [
        "#Extracting the features and labels as numpy arrays\n",
        "#predict function of conv_base is used to get the features of the image\n",
        "from keras.preprocessing.image import ImageDataGenerator\n",
        "datagen = ImageDataGenerator(rescale=1./255)\n",
        "batch_size = 20\n",
        "def extract_features(directory, sample_count):\n",
        "  features = np.zeros(shape=(sample_count, 4, 4, 512))\n",
        "  labels = np.zeros(shape=(sample_count))\n",
        "  generator = datagen.flow_from_directory( directory,\n",
        "  target_size=(150, 150),\n",
        "  batch_size=batch_size,\n",
        "  class_mode='binary')\n",
        "  i = 0\n",
        "  for inputs_batch, labels_batch in generator:\n",
        "    features_batch = conv_base.predict(inputs_batch)\n",
        "    features[i * batch_size : (i + 1) * batch_size] = features_batch\n",
        "    labels[i * batch_size : (i + 1) * batch_size] = labels_batch\n",
        "    i += 1\n",
        "    if i * batch_size >= sample_count:\n",
        "        break\n",
        "  return features, labels"
      ],
      "execution_count": 0,
      "outputs": []
    },
    {
      "metadata": {
        "id": "z4vXTNQRAo_b",
        "colab_type": "code",
        "colab": {
          "base_uri": "https://localhost:8080/",
          "height": 68
        },
        "outputId": "a0daf515-beb2-4fa7-c77e-dd4a403ebc43"
      },
      "cell_type": "code",
      "source": [
        "train_features, train_labels = extract_features(train_dir, 2000)\n",
        "validation_features, validation_labels = extract_features(val_dir, 1000)\n",
        "test_features, test_labels = extract_features(test_dir, 1000)"
      ],
      "execution_count": 9,
      "outputs": [
        {
          "output_type": "stream",
          "text": [
            "Found 2000 images belonging to 2 classes.\n",
            "Found 1000 images belonging to 2 classes.\n",
            "Found 1000 images belonging to 2 classes.\n"
          ],
          "name": "stdout"
        }
      ]
    },
    {
      "metadata": {
        "id": "pYE3zoJIFylg",
        "colab_type": "code",
        "colab": {}
      },
      "cell_type": "code",
      "source": [
        "train_features = np.reshape(train_features, (2000, 4 * 4 * 512))\n",
        "validation_features = np.reshape(validation_features, (1000, 4 * 4 * 512))\n",
        "test_features = np.reshape(test_features, (1000, 4 * 4 * 512))"
      ],
      "execution_count": 0,
      "outputs": []
    },
    {
      "metadata": {
        "id": "qg0s4fxQJjTg",
        "colab_type": "code",
        "colab": {}
      },
      "cell_type": "code",
      "source": [
        "#dense layers\n",
        "from keras import models\n",
        "from keras import layers\n",
        "from keras import optimizers\n",
        "\n",
        "model = models.Sequential()\n",
        "model.add(layers.Dense(256, activation='relu', input_dim=4 * 4 * 512))\n",
        "model.add(layers.Dropout(0.5))\n",
        "model.add(layers.Dense(1, activation='sigmoid'))"
      ],
      "execution_count": 0,
      "outputs": []
    },
    {
      "metadata": {
        "id": "hubJuH15JoVL",
        "colab_type": "code",
        "colab": {
          "base_uri": "https://localhost:8080/",
          "height": 1054
        },
        "outputId": "ad6b5a0a-f4df-45b4-95d0-93c8c719e2a9"
      },
      "cell_type": "code",
      "source": [
        "model.compile(optimizer=optimizers.RMSprop(lr=2e-5),\n",
        "loss='binary_crossentropy',\n",
        "metrics=['acc'])\n",
        "history = model.fit(train_features, train_labels,\n",
        "epochs=30,\n",
        "batch_size=20,\n",
        "validation_data=(validation_features, validation_labels))"
      ],
      "execution_count": 21,
      "outputs": [
        {
          "output_type": "stream",
          "text": [
            "Train on 2000 samples, validate on 1000 samples\n",
            "Epoch 1/30\n",
            "2000/2000 [==============================] - 1s 730us/step - loss: 0.6017 - acc: 0.6725 - val_loss: 0.4460 - val_acc: 0.8430\n",
            "Epoch 2/30\n",
            "2000/2000 [==============================] - 1s 497us/step - loss: 0.4294 - acc: 0.8085 - val_loss: 0.3617 - val_acc: 0.8680\n",
            "Epoch 3/30\n",
            "2000/2000 [==============================] - 1s 516us/step - loss: 0.3547 - acc: 0.8550 - val_loss: 0.3208 - val_acc: 0.8700\n",
            "Epoch 4/30\n",
            "2000/2000 [==============================] - 1s 500us/step - loss: 0.3188 - acc: 0.8710 - val_loss: 0.2968 - val_acc: 0.8800\n",
            "Epoch 5/30\n",
            "2000/2000 [==============================] - 1s 502us/step - loss: 0.2926 - acc: 0.8830 - val_loss: 0.2827 - val_acc: 0.8850\n",
            "Epoch 6/30\n",
            "2000/2000 [==============================] - 1s 508us/step - loss: 0.2611 - acc: 0.8985 - val_loss: 0.2696 - val_acc: 0.8920\n",
            "Epoch 7/30\n",
            "2000/2000 [==============================] - 1s 505us/step - loss: 0.2452 - acc: 0.9000 - val_loss: 0.2628 - val_acc: 0.8960\n",
            "Epoch 8/30\n",
            "2000/2000 [==============================] - 1s 501us/step - loss: 0.2292 - acc: 0.9105 - val_loss: 0.2569 - val_acc: 0.8990\n",
            "Epoch 9/30\n",
            "2000/2000 [==============================] - 1s 508us/step - loss: 0.2146 - acc: 0.9215 - val_loss: 0.2653 - val_acc: 0.8880\n",
            "Epoch 10/30\n",
            "2000/2000 [==============================] - 1s 495us/step - loss: 0.2085 - acc: 0.9230 - val_loss: 0.2552 - val_acc: 0.8940\n",
            "Epoch 11/30\n",
            "2000/2000 [==============================] - 1s 502us/step - loss: 0.1956 - acc: 0.9245 - val_loss: 0.2456 - val_acc: 0.9050\n",
            "Epoch 12/30\n",
            "2000/2000 [==============================] - 1s 493us/step - loss: 0.1848 - acc: 0.9360 - val_loss: 0.2471 - val_acc: 0.9000\n",
            "Epoch 13/30\n",
            "2000/2000 [==============================] - 1s 505us/step - loss: 0.1795 - acc: 0.9345 - val_loss: 0.2511 - val_acc: 0.8990\n",
            "Epoch 14/30\n",
            "2000/2000 [==============================] - 1s 496us/step - loss: 0.1678 - acc: 0.9430 - val_loss: 0.2396 - val_acc: 0.9050\n",
            "Epoch 15/30\n",
            "2000/2000 [==============================] - 1s 492us/step - loss: 0.1641 - acc: 0.9475 - val_loss: 0.2392 - val_acc: 0.9030\n",
            "Epoch 16/30\n",
            "2000/2000 [==============================] - 1s 503us/step - loss: 0.1577 - acc: 0.9385 - val_loss: 0.2388 - val_acc: 0.9050\n",
            "Epoch 17/30\n",
            "2000/2000 [==============================] - 1s 494us/step - loss: 0.1460 - acc: 0.9545 - val_loss: 0.2501 - val_acc: 0.8970\n",
            "Epoch 18/30\n",
            "2000/2000 [==============================] - 1s 497us/step - loss: 0.1469 - acc: 0.9525 - val_loss: 0.2421 - val_acc: 0.9040\n",
            "Epoch 19/30\n",
            "2000/2000 [==============================] - 1s 495us/step - loss: 0.1350 - acc: 0.9495 - val_loss: 0.2381 - val_acc: 0.9040\n",
            "Epoch 20/30\n",
            "2000/2000 [==============================] - 1s 499us/step - loss: 0.1289 - acc: 0.9600 - val_loss: 0.2362 - val_acc: 0.9080\n",
            "Epoch 21/30\n",
            "2000/2000 [==============================] - 1s 494us/step - loss: 0.1267 - acc: 0.9575 - val_loss: 0.2374 - val_acc: 0.9040\n",
            "Epoch 22/30\n",
            "2000/2000 [==============================] - 1s 505us/step - loss: 0.1192 - acc: 0.9560 - val_loss: 0.2354 - val_acc: 0.9070\n",
            "Epoch 23/30\n",
            "2000/2000 [==============================] - 1s 492us/step - loss: 0.1145 - acc: 0.9615 - val_loss: 0.2352 - val_acc: 0.9050\n",
            "Epoch 24/30\n",
            "2000/2000 [==============================] - 1s 498us/step - loss: 0.1123 - acc: 0.9640 - val_loss: 0.2372 - val_acc: 0.9050\n",
            "Epoch 25/30\n",
            "2000/2000 [==============================] - 1s 501us/step - loss: 0.1046 - acc: 0.9670 - val_loss: 0.2415 - val_acc: 0.9020\n",
            "Epoch 26/30\n",
            "2000/2000 [==============================] - 1s 501us/step - loss: 0.1028 - acc: 0.9685 - val_loss: 0.2387 - val_acc: 0.9030\n",
            "Epoch 27/30\n",
            "2000/2000 [==============================] - 1s 498us/step - loss: 0.0999 - acc: 0.9705 - val_loss: 0.2385 - val_acc: 0.9030\n",
            "Epoch 28/30\n",
            "2000/2000 [==============================] - 1s 495us/step - loss: 0.0975 - acc: 0.9670 - val_loss: 0.2417 - val_acc: 0.9000\n",
            "Epoch 29/30\n",
            "2000/2000 [==============================] - 1s 498us/step - loss: 0.0905 - acc: 0.9745 - val_loss: 0.2423 - val_acc: 0.9030\n",
            "Epoch 30/30\n",
            "2000/2000 [==============================] - 1s 510us/step - loss: 0.0883 - acc: 0.9740 - val_loss: 0.2425 - val_acc: 0.9020\n"
          ],
          "name": "stdout"
        }
      ]
    },
    {
      "metadata": {
        "id": "kYWQtrCOVOqY",
        "colab_type": "code",
        "colab": {
          "base_uri": "https://localhost:8080/",
          "height": 707
        },
        "outputId": "15e62e03-4d15-4f40-9613-f7e2286658b3"
      },
      "cell_type": "code",
      "source": [
        "import matplotlib.pyplot as plt\n",
        "acc = history.history['acc']\n",
        "val_acc = history.history['val_acc']\n",
        "loss = history.history['loss']\n",
        "val_loss = history.history['val_loss']\n",
        "epochs = range(1, len(acc) + 1)\n",
        "plt.plot(epochs, acc, 'bo', label='Training acc')\n",
        "plt.plot(epochs, val_acc, 'b', label='Validation acc')\n",
        "plt.title('Training and validation accuracy')\n",
        "plt.legend()\n",
        "plt.figure()\n",
        "plt.plot(epochs, loss, 'bo', label='Training loss')\n",
        "plt.plot(epochs, val_loss, 'b', label='Validation loss')\n",
        "plt.title('Training and validation loss')\n",
        "plt.legend()\n",
        "plt.show()"
      ],
      "execution_count": 22,
      "outputs": [
        {
          "output_type": "display_data",
          "data": {
            "image/png": "[encoded data removed]",
            "text/plain": [
              "<matplotlib.figure.Figure at 0x7f6405eefe80>"
            ]
          },
          "metadata": {
            "tags": []
          }
        },
        {
          "output_type": "display_data",
          "data": {
            "image/png": "[encoded data removed]",
            "text/plain": [
              "<matplotlib.figure.Figure at 0x7f64047186a0>"
            ]
          },
          "metadata": {
            "tags": []
          }
        }
      ]
    },
    {
      "metadata": {
        "id": "JCitww7qYOVi",
        "colab_type": "code",
        "colab": {
          "base_uri": "https://localhost:8080/",
          "height": 51
        },
        "outputId": "1bf0e3f8-7182-4eac-f803-f70252e2e4f1"
      },
      "cell_type": "code",
      "source": [
        "score = model.evaluate(test_features,test_labels)\n",
        "score"
      ],
      "execution_count": 26,
      "outputs": [
        {
          "output_type": "stream",
          "text": [
            "1000/1000 [==============================] - 0s 135us/step\n"
          ],
          "name": "stdout"
        },
        {
          "output_type": "execute_result",
          "data": {
            "text/plain": [
              "[0.2507319777905941, 0.889]"
            ]
          },
          "metadata": {
            "tags": []
          },
          "execution_count": 26
        }
      ]
    },
    {
      "metadata": {
        "id": "WaYgcGW6YTH_",
        "colab_type": "code",
        "colab": {}
      },
      "cell_type": "code",
      "source": [
        ""
      ],
      "execution_count": 0,
      "outputs": []
    }
  ]
}