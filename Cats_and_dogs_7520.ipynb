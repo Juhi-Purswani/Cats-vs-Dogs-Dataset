{
  "nbformat": 4,
  "nbformat_minor": 0,
  "metadata": {
    "colab": {
      "name": "Cats_and_dogs_7520.ipynb",
      "version": "0.3.2",
      "provenance": []
    },
    "kernelspec": {
      "display_name": "Python 3",
      "language": "python",
      "name": "python3"
    },
    "accelerator": "GPU"
  },
  "cells": [
    {
      "metadata": {
        "id": "XSJ5BIMv0mX7",
        "colab_type": "text"
      },
      "cell_type": "markdown",
      "source": [
        "# **Cats vs Dogs (Keras CNN using data augmentation)** \n",
        "\n",
        "\n",
        "\n",
        "---\n",
        "\n"
      ]
    },
    {
      "metadata": {
        "id": "vzcrPUny86F6",
        "colab_type": "code",
        "colab": {}
      },
      "cell_type": "code",
      "source": [
        "import numpy as np\n",
        "import matplotlib.pyplot as plt\n"
      ],
      "execution_count": 0,
      "outputs": []
    },
    {
      "metadata": {
        "id": "WNffdH656g7S",
        "colab_type": "code",
        "colab": {
          "base_uri": "https://localhost:8080/",
          "height": 122
        },
        "outputId": "359a1102-77fc-4763-ca7f-4d677821f87a"
      },
      "cell_type": "code",
      "source": [
        "\n",
        "from google.colab import drive\n",
        "drive.mount('/content/drive')"
      ],
      "execution_count": 3,
      "outputs": [
        {
          "output_type": "stream",
          "text": [
            "Go to this URL in a browser: https://accounts.google.com/o/oauth2/auth?client_id=947318989803-6bn6qk8qdgf4n4g3pfee6491hc0brc4i.apps.googleusercontent.com&redirect_uri=urn%3Aietf%3Awg%3Aoauth%3A2.0%3Aoob&scope=email%20https%3A%2F%2Fwww.googleapis.com%2Fauth%2Fdocs.test%20https%3A%2F%2Fwww.googleapis.com%2Fauth%2Fdrive%20https%3A%2F%2Fwww.googleapis.com%2Fauth%2Fdrive.photos.readonly%20https%3A%2F%2Fwww.googleapis.com%2Fauth%2Fpeopleapi.readonly&response_type=code\n",
            "\n",
            "Enter your authorization code:\n",
            "··········\n",
            "Mounted at /content/drive\n"
          ],
          "name": "stdout"
        }
      ]
    },
    {
      "metadata": {
        "id": "Agbc8A_AAz1a",
        "colab_type": "text"
      },
      "cell_type": "markdown",
      "source": [
        ""
      ]
    },
    {
      "metadata": {
        "id": "ft_3JFOH6_LE",
        "colab_type": "code",
        "colab": {}
      },
      "cell_type": "code",
      "source": [
        "import os\n",
        "os.getcwd()\n",
        "os.chdir(\"./drive/My Drive\")\n",
        "#os.getcwd()"
      ],
      "execution_count": 0,
      "outputs": []
    },
    {
      "metadata": {
        "id": "eiKs0aXK86Wr",
        "colab_type": "text"
      },
      "cell_type": "markdown",
      "source": [
        ""
      ]
    },
    {
      "metadata": {
        "id": "6HapIJL3_HJQ",
        "colab_type": "code",
        "colab": {}
      },
      "cell_type": "code",
      "source": [
        "base_dir = os.path.join('/content/drive/My Drive', 'cats_and_dogs_small')\n",
        "train_dir = os.path.join(base_dir, 'train')\n",
        "val_dir = os.path.join(base_dir, 'validation')\n",
        "test_dir = os.path.join(base_dir, 'test')"
      ],
      "execution_count": 0,
      "outputs": []
    },
    {
      "metadata": {
        "id": "OnV5pTyI_dqd",
        "colab_type": "code",
        "colab": {
          "base_uri": "https://localhost:8080/",
          "height": 34
        },
        "outputId": "06bf1444-8e1f-4f2b-e75a-3a1b3d13c5ea"
      },
      "cell_type": "code",
      "source": [
        "train_dir"
      ],
      "execution_count": 6,
      "outputs": [
        {
          "output_type": "execute_result",
          "data": {
            "text/plain": [
              "'/content/drive/My Drive/cats_and_dogs_small/train'"
            ]
          },
          "metadata": {
            "tags": []
          },
          "execution_count": 6
        }
      ]
    },
    {
      "metadata": {
        "id": "Kza2cxfF86F_",
        "colab_type": "code",
        "colab": {
          "base_uri": "https://localhost:8080/",
          "height": 34
        },
        "outputId": "bab20ec7-d607-4d90-9b25-2b26edebace0"
      },
      "cell_type": "code",
      "source": [
        "import keras\n",
        "from keras import layers\n",
        "from keras import models\n",
        "from keras.layers import Conv2D, MaxPool2D, Flatten,Dense, Dropout"
      ],
      "execution_count": 7,
      "outputs": [
        {
          "output_type": "stream",
          "text": [
            "Using TensorFlow backend.\n"
          ],
          "name": "stderr"
        }
      ]
    },
    {
      "metadata": {
        "id": "DICdd0qf86GD",
        "colab_type": "code",
        "colab": {}
      },
      "cell_type": "code",
      "source": [
        "#Model\n",
        "model = models.Sequential()\n",
        "model.add(layers.Conv2D(32,(3,3),activation='relu',padding='same',input_shape=(150,150,3)))\n",
        "model.add(layers.MaxPool2D((2,2)))\n",
        "model.add(layers.Conv2D(64,(3,3),activation='relu',padding='same'))\n",
        "model.add(layers.MaxPool2D((2,2)))\n",
        "model.add(layers.Conv2D(128,(3,3),activation='relu',padding='same'))\n",
        "model.add(layers.MaxPool2D((2,2)))\n",
        "model.add(layers.Conv2D(128,(3,3),activation='relu',padding='same'))\n",
        "model.add(layers.MaxPool2D((2,2)))\n",
        "model.add(layers.Dropout(0.5))\n",
        "model.add(layers.Flatten())\n",
        "model.add(layers.Dense(512, activation='relu'))\n",
        "model.add(layers.Dense(1, activation='sigmoid'))"
      ],
      "execution_count": 0,
      "outputs": []
    },
    {
      "metadata": {
        "id": "A4mDNqni86GG",
        "colab_type": "code",
        "colab": {
          "base_uri": "https://localhost:8080/",
          "height": 544
        },
        "outputId": "2c4c0e28-c771-408b-e82c-fde0c31db2cd"
      },
      "cell_type": "code",
      "source": [
        "model.summary()"
      ],
      "execution_count": 9,
      "outputs": [
        {
          "output_type": "stream",
          "text": [
            "_________________________________________________________________\n",
            "Layer (type)                 Output Shape              Param #   \n",
            "=================================================================\n",
            "conv2d_1 (Conv2D)            (None, 150, 150, 32)      896       \n",
            "_________________________________________________________________\n",
            "max_pooling2d_1 (MaxPooling2 (None, 75, 75, 32)        0         \n",
            "_________________________________________________________________\n",
            "conv2d_2 (Conv2D)            (None, 75, 75, 64)        18496     \n",
            "_________________________________________________________________\n",
            "max_pooling2d_2 (MaxPooling2 (None, 37, 37, 64)        0         \n",
            "_________________________________________________________________\n",
            "conv2d_3 (Conv2D)            (None, 37, 37, 128)       73856     \n",
            "_________________________________________________________________\n",
            "max_pooling2d_3 (MaxPooling2 (None, 18, 18, 128)       0         \n",
            "_________________________________________________________________\n",
            "conv2d_4 (Conv2D)            (None, 18, 18, 128)       147584    \n",
            "_________________________________________________________________\n",
            "max_pooling2d_4 (MaxPooling2 (None, 9, 9, 128)         0         \n",
            "_________________________________________________________________\n",
            "dropout_1 (Dropout)          (None, 9, 9, 128)         0         \n",
            "_________________________________________________________________\n",
            "flatten_1 (Flatten)          (None, 10368)             0         \n",
            "_________________________________________________________________\n",
            "dense_1 (Dense)              (None, 512)               5308928   \n",
            "_________________________________________________________________\n",
            "dense_2 (Dense)              (None, 1)                 513       \n",
            "=================================================================\n",
            "Total params: 5,550,273\n",
            "Trainable params: 5,550,273\n",
            "Non-trainable params: 0\n",
            "_________________________________________________________________\n"
          ],
          "name": "stdout"
        }
      ]
    },
    {
      "metadata": {
        "id": "Nvr5HR1o86GP",
        "colab_type": "code",
        "colab": {}
      },
      "cell_type": "code",
      "source": [
        "from keras import optimizers\n",
        "model.compile(loss='binary_crossentropy',optimizer=optimizers.RMSprop(lr=1e-4),metrics=['acc'])"
      ],
      "execution_count": 0,
      "outputs": []
    },
    {
      "metadata": {
        "id": "cJVZG8fT86GV",
        "colab_type": "code",
        "colab": {
          "base_uri": "https://localhost:8080/",
          "height": 51
        },
        "outputId": "bfd2b8b7-6594-46e5-be64-166c4dddb81c"
      },
      "cell_type": "code",
      "source": [
        "from keras.preprocessing.image import ImageDataGenerator\n",
        "\n",
        "train_datagen = ImageDataGenerator(rotation_range=40, width_shift_range=0.2, height_shift_range=0.2,\n",
        "shear_range=0.2, zoom_range=0.2, horizontal_flip=True, fill_mode='nearest', rescale=1./255)\n",
        "test_datagen = ImageDataGenerator(rescale=1./255)\n",
        "train_generator = train_datagen.flow_from_directory(train_dir,target_size=(150,150)\n",
        "                                                    ,batch_size=20,class_mode='binary')\n",
        "validation_generator = train_datagen.flow_from_directory(val_dir,target_size=(150,150)\n",
        "                                                    ,batch_size=20,class_mode='binary')"
      ],
      "execution_count": 10,
      "outputs": [
        {
          "output_type": "stream",
          "text": [
            "Found 2000 images belonging to 2 classes.\n",
            "Found 1000 images belonging to 2 classes.\n"
          ],
          "name": "stdout"
        }
      ]
    },
    {
      "metadata": {
        "id": "OOBHpJjA86GZ",
        "colab_type": "code",
        "colab": {
          "base_uri": "https://localhost:8080/",
          "height": 51
        },
        "outputId": "35204222-d62d-4848-c6a8-1e31bdacef69"
      },
      "cell_type": "code",
      "source": [
        "for data_batch, labels_batch in train_generator:\n",
        "    print('data batch shape:', data_batch.shape)\n",
        "    print('labels batch shape:', labels_batch.shape)\n",
        "    break"
      ],
      "execution_count": 12,
      "outputs": [
        {
          "output_type": "stream",
          "text": [
            "data batch shape: (20, 150, 150, 3)\n",
            "labels batch shape: (20,)\n"
          ],
          "name": "stdout"
        }
      ]
    },
    {
      "metadata": {
        "id": "t2-u3G6486Gd",
        "colab_type": "code",
        "colab": {
          "base_uri": "https://localhost:8080/",
          "height": 1037
        },
        "outputId": "fbaac1fe-0e72-4878-e17f-f08a093fdcea"
      },
      "cell_type": "code",
      "source": [
        "history = model.fit_generator(\n",
        "train_generator,\n",
        "steps_per_epoch=100,\n",
        "epochs=30,\n",
        "validation_data=validation_generator,\n",
        "validation_steps=50)"
      ],
      "execution_count": 13,
      "outputs": [
        {
          "output_type": "stream",
          "text": [
            "Epoch 1/30\n",
            "100/100 [==============================] - 827s 8s/step - loss: 0.6956 - acc: 0.5265 - val_loss: 0.6864 - val_acc: 0.5840\n",
            "Epoch 2/30\n",
            "100/100 [==============================] - 34s 344ms/step - loss: 0.6870 - acc: 0.5460 - val_loss: 0.6762 - val_acc: 0.5800\n",
            "Epoch 3/30\n",
            "100/100 [==============================] - 34s 341ms/step - loss: 0.6742 - acc: 0.5725 - val_loss: 0.6790 - val_acc: 0.5770\n",
            "Epoch 4/30\n",
            "100/100 [==============================] - 34s 339ms/step - loss: 0.6420 - acc: 0.6300 - val_loss: 0.6706 - val_acc: 0.5910\n",
            "Epoch 5/30\n",
            "100/100 [==============================] - 34s 341ms/step - loss: 0.6412 - acc: 0.6280 - val_loss: 0.6227 - val_acc: 0.6520\n",
            "Epoch 6/30\n",
            "100/100 [==============================] - 34s 345ms/step - loss: 0.6094 - acc: 0.6630 - val_loss: 0.6152 - val_acc: 0.6580\n",
            "Epoch 7/30\n",
            "100/100 [==============================] - 33s 331ms/step - loss: 0.6061 - acc: 0.6665 - val_loss: 0.5961 - val_acc: 0.6760\n",
            "Epoch 8/30\n",
            "100/100 [==============================] - 34s 336ms/step - loss: 0.5984 - acc: 0.6755 - val_loss: 0.6075 - val_acc: 0.6670\n",
            "Epoch 9/30\n",
            "100/100 [==============================] - 33s 328ms/step - loss: 0.5797 - acc: 0.6885 - val_loss: 0.6001 - val_acc: 0.6610\n",
            "Epoch 10/30\n",
            "100/100 [==============================] - 33s 331ms/step - loss: 0.5831 - acc: 0.6955 - val_loss: 0.5781 - val_acc: 0.6890\n",
            "Epoch 11/30\n",
            "100/100 [==============================] - 33s 330ms/step - loss: 0.5776 - acc: 0.7025 - val_loss: 0.5680 - val_acc: 0.6980\n",
            "Epoch 12/30\n",
            "100/100 [==============================] - 33s 331ms/step - loss: 0.5776 - acc: 0.6930 - val_loss: 0.5704 - val_acc: 0.6920\n",
            "Epoch 13/30\n",
            "100/100 [==============================] - 33s 335ms/step - loss: 0.5709 - acc: 0.6995 - val_loss: 0.5767 - val_acc: 0.6840\n",
            "Epoch 14/30\n",
            "100/100 [==============================] - 33s 329ms/step - loss: 0.5579 - acc: 0.6955 - val_loss: 0.6082 - val_acc: 0.6600\n",
            "Epoch 15/30\n",
            "100/100 [==============================] - 33s 328ms/step - loss: 0.5452 - acc: 0.7245 - val_loss: 0.5654 - val_acc: 0.6930\n",
            "Epoch 16/30\n",
            "100/100 [==============================] - 33s 330ms/step - loss: 0.5490 - acc: 0.7085 - val_loss: 0.5743 - val_acc: 0.7000\n",
            "Epoch 17/30\n",
            "100/100 [==============================] - 34s 338ms/step - loss: 0.5454 - acc: 0.7190 - val_loss: 0.5450 - val_acc: 0.7070\n",
            "Epoch 18/30\n",
            "100/100 [==============================] - 34s 335ms/step - loss: 0.5377 - acc: 0.7210 - val_loss: 0.5670 - val_acc: 0.6890\n",
            "Epoch 19/30\n",
            "100/100 [==============================] - 35s 348ms/step - loss: 0.5431 - acc: 0.7285 - val_loss: 0.5394 - val_acc: 0.7240\n",
            "Epoch 20/30\n",
            "100/100 [==============================] - 35s 347ms/step - loss: 0.5309 - acc: 0.7350 - val_loss: 0.6032 - val_acc: 0.6850\n",
            "Epoch 21/30\n",
            "100/100 [==============================] - 35s 346ms/step - loss: 0.5238 - acc: 0.7460 - val_loss: 0.5439 - val_acc: 0.7330\n",
            "Epoch 22/30\n",
            "100/100 [==============================] - 34s 345ms/step - loss: 0.5313 - acc: 0.7315 - val_loss: 0.5362 - val_acc: 0.7140\n",
            "Epoch 23/30\n",
            "100/100 [==============================] - 34s 344ms/step - loss: 0.5304 - acc: 0.7310 - val_loss: 0.5821 - val_acc: 0.6940\n",
            "Epoch 24/30\n",
            "100/100 [==============================] - 35s 346ms/step - loss: 0.5149 - acc: 0.7490 - val_loss: 0.5176 - val_acc: 0.7210\n",
            "Epoch 25/30\n",
            "100/100 [==============================] - 34s 343ms/step - loss: 0.5133 - acc: 0.7470 - val_loss: 0.5420 - val_acc: 0.7280\n",
            "Epoch 26/30\n",
            "100/100 [==============================] - 35s 349ms/step - loss: 0.5142 - acc: 0.7470 - val_loss: 0.5476 - val_acc: 0.7070\n",
            "Epoch 27/30\n",
            "100/100 [==============================] - 34s 339ms/step - loss: 0.5078 - acc: 0.7500 - val_loss: 0.5834 - val_acc: 0.6940\n",
            "Epoch 28/30\n",
            "100/100 [==============================] - 34s 342ms/step - loss: 0.5067 - acc: 0.7485 - val_loss: 0.5567 - val_acc: 0.7130\n",
            "Epoch 29/30\n",
            "100/100 [==============================] - 34s 340ms/step - loss: 0.5120 - acc: 0.7570 - val_loss: 0.5408 - val_acc: 0.7170\n",
            "Epoch 30/30\n",
            "100/100 [==============================] - 34s 342ms/step - loss: 0.4936 - acc: 0.7590 - val_loss: 0.5553 - val_acc: 0.7120\n"
          ],
          "name": "stdout"
        }
      ]
    },
    {
      "metadata": {
        "id": "iKVc258gLyvv",
        "colab_type": "code",
        "colab": {}
      },
      "cell_type": "code",
      "source": [
        ""
      ],
      "execution_count": 0,
      "outputs": []
    },
    {
      "metadata": {
        "id": "VGZ1WX5ECg6t",
        "colab_type": "code",
        "colab": {}
      },
      "cell_type": "code",
      "source": [
        "model.save('cats_and_dogs_small_1.h5')"
      ],
      "execution_count": 0,
      "outputs": []
    },
    {
      "metadata": {
        "id": "rqwZ2hwSkHlK",
        "colab_type": "text"
      },
      "cell_type": "markdown",
      "source": [
        ""
      ]
    },
    {
      "metadata": {
        "id": "hMTIOU_DChgI",
        "colab_type": "code",
        "colab": {
          "base_uri": "https://localhost:8080/",
          "height": 707
        },
        "outputId": "bcf9fcea-bc38-4d2a-a003-326d7b3b4487"
      },
      "cell_type": "code",
      "source": [
        "import matplotlib.pyplot as plt\n",
        "acc = history.history['acc']\n",
        "val_acc = history.history['val_acc']\n",
        "loss = history.history['loss']\n",
        "val_loss = history.history['val_loss']\n",
        "epochs = range(1, len(acc) + 1)\n",
        "plt.plot(epochs, acc, 'bo', label='Training acc')\n",
        "plt.plot(epochs, val_acc, 'b', label='Validation acc')\n",
        "plt.title('Training and validation accuracy')\n",
        "plt.legend()\n",
        "plt.figure()\n",
        "plt.plot(epochs, loss, 'bo', label='Training loss')\n",
        "plt.plot(epochs, val_loss, 'b', label='Validation loss')\n",
        "plt.title('Training and validation loss')\n",
        "plt.legend()\n",
        "plt.show()"
      ],
      "execution_count": 16,
      "outputs": [
        {
          "output_type": "display_data",
          "data": {
            "image/png": "[encoded data removed]",
            "text/plain": [
              "<matplotlib.figure.Figure at 0x7f704cec3400>"
            ]
          },
          "metadata": {
            "tags": []
          }
        },
        {
          "output_type": "display_data",
          "data": {
            "image/png": "[encoded data removed]",
            "text/plain": [
              "<matplotlib.figure.Figure at 0x7f702eaf4128>"
            ]
          },
          "metadata": {
            "tags": []
          }
        }
      ]
    },
    {
      "metadata": {
        "id": "7GZeZ-I6L0eP",
        "colab_type": "code",
        "colab": {
          "base_uri": "https://localhost:8080/",
          "height": 51
        },
        "outputId": "b9c51fdc-5e6d-4bc5-a690-e55d2f9039b2"
      },
      "cell_type": "code",
      "source": [
        "test_generator = test_datagen.flow_from_directory(test_dir, target_size = (150, 150), batch_size = 20, class_mode = 'binary')\n",
        "test_loss, test_acc = model.evaluate_generator(test_generator)\n",
        "test_loss, test_acc"
      ],
      "execution_count": 14,
      "outputs": [
        {
          "output_type": "stream",
          "text": [
            "Found 1000 images belonging to 2 classes.\n"
          ],
          "name": "stdout"
        },
        {
          "output_type": "execute_result",
          "data": {
            "text/plain": [
              "(0.5179144161939621, 0.752000002861023)"
            ]
          },
          "metadata": {
            "tags": []
          },
          "execution_count": 14
        }
      ]
    },
    {
      "metadata": {
        "id": "Hb4_tmCNfx5T",
        "colab_type": "code",
        "colab": {}
      },
      "cell_type": "code",
      "source": [
        ""
      ],
      "execution_count": 0,
      "outputs": []
    }
  ]
}